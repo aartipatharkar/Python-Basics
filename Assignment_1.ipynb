{
  "nbformat": 4,
  "nbformat_minor": 0,
  "metadata": {
    "colab": {
      "provenance": []
    },
    "kernelspec": {
      "name": "python3",
      "display_name": "Python 3"
    },
    "language_info": {
      "name": "python"
    }
  },
  "cells": [
    {
      "cell_type": "markdown",
      "source": [],
      "metadata": {
        "id": "GVf0OeR6qjSM"
      }
    },
    {
      "cell_type": "markdown",
      "source": [
        "**1)What is Python, and why is it popular?**\n",
        "->Python is a versatile, high-level, interpreted programming language known for its readability and ease of use. It's popular due to its simple syntax, extensive libraries, and adaptability to various fields like web development, data science, and machine learning"
      ],
      "metadata": {
        "id": "NEDQ6Jsaqk9r"
      }
    },
    {
      "cell_type": "markdown",
      "source": [
        "**2)What is an interpreter in Python ?**\n",
        "->In Python, an interpreter is a program that reads and executes Python code line by line, without requiring it to be compiled into machine code beforehand. It translates each high-level statement into lower-level instructions that the computer can understand and run."
      ],
      "metadata": {
        "id": "FaMCWreVq2G9"
      }
    },
    {
      "cell_type": "markdown",
      "source": [
        "**3)What are pre-defined keywords in Python ?**\n",
        "->Python keywords are reserved words that have predefined meanings and purposes within the language. These keywords are essential for defining the structure and syntax of Python code. They cannot be used as identifiers (variable names, function names, etc.) because they are reserved for specific language functionalities.\n",
        "Here are some key aspects of Python keywords:\n",
        "Reserved Words:\n",
        "Keywords are pre-defined and reserved words in Python, meaning they can't be used as identifiers.\n",
        "Case-Sensitive:\n",
        "Keywords in Python are case-sensitive. Most are in lowercase, except for True, False, and None.\n",
        "Syntax Definition:\n",
        "Keywords define the syntax of the Python language, guiding how code is interpreted and executed.\n",
        "Version Dependent:\n",
        "The number of keywords can vary slightly between Python versions.\n",
        "Common Python Keywords:\n",
        "Boolean Values: True, False\n",
        "Logical Operators: and, or, not\n",
        "Conditional Statements: if, elif, else\n",
        "Looping: for, while, break, continue\n",
        "Function Definition: def, return, lambda\n",
        "Class Definition: class\n",
        "Exception Handling: try, except, finally, raise, assert\n",
        "Importing Modules: import, from, as\n",
        "Variable Scope: global, nonlocal\n",
        "Other: in, is, pass, None, with, yield, async, await, del"
      ],
      "metadata": {
        "id": "vWU15uPtrLIc"
      }
    },
    {
      "cell_type": "markdown",
      "source": [
        "**4)Can keywords be used as variable names ?**\n",
        "->No, keywords cannot be used as variable names in programming languages like C, C++, Python, and Java. Keywords have specific, predefined meanings within the language and are used for syntax and structure. Using them as variable names would lead to ambiguity and errors."
      ],
      "metadata": {
        "id": "3FTZxxVLr9yk"
      }
    },
    {
      "cell_type": "markdown",
      "source": [
        "**5) What is mutability in Python?**-> Mutability in Python refers to whether the value of an object can be changed after it is created. Mutable objects can be modified in place, while immutable objects cannot."
      ],
      "metadata": {
        "id": "_VHKBl42sOy6"
      }
    },
    {
      "cell_type": "markdown",
      "source": [],
      "metadata": {
        "id": "c2R3jHJ_rvQt"
      }
    },
    {
      "cell_type": "markdown",
      "source": [
        "**6)Why are lists mutable, but tuples are immutable?**->tuples use parentheses instead of square brackets, and the items in tuples cannot be modified (but the items in lists can be modified). We often call lists mutable (meaning they can be changed) and tuples immutable (meaning they cannot be changed)"
      ],
      "metadata": {
        "id": "PteiK7bEsjSY"
      }
    },
    {
      "cell_type": "markdown",
      "source": [
        "**7)What is the difference between “==” and “is” operators in Python ?**->\n",
        "**Equality Operator (==):**\n",
        "Compares the values of two objects.\n",
        "Checks if the content or data held by the objects are the same.\n",
        "Uses the __eq__() method of the object to determine equality.\n",
        "Returns True if the values are equal, and False otherwise.\n",
        "**Identity Operator (is):**\n",
        "Compares the identity of two objects.\n",
        "Checks if two variables point to the same object in memory.\n",
        "Returns True if they are the same object, and False otherwise.\n",
        "Can be thought of as checking if id(a) == id(b) is True."
      ],
      "metadata": {
        "id": "WLBPWI8zs0r2"
      }
    },
    {
      "cell_type": "markdown",
      "source": [
        "**8)What are logical operators in Python?**->\n",
        "1. and: Returns True if both operands are True, Returns False otherwise.\n",
        "2. or: Returns True if at least one of the operands is True.\n",
        "Returns False if both operands are False.\n",
        "3. not: Returns the opposite of the operand's boolean value.\n",
        "If the operand is True, it returns False, and vice versa."
      ],
      "metadata": {
        "id": "qlqvc1swtInV"
      }
    },
    {
      "cell_type": "markdown",
      "source": [
        "**9)What is type casting in Python?**->Python Type Casting is a process in which we convert a literal of one data type to another data type."
      ],
      "metadata": {
        "id": "yOpcWoJFtuFV"
      }
    },
    {
      "cell_type": "markdown",
      "source": [
        "**10)What is the difference between implicit and explicit type casting?**->\n",
        "**Implicit Type Casting:**\n",
        "Definition: Automatically converts a smaller data type to a larger data type.\n",
        "Data Loss: Generally avoids data loss, as the conversion is usually from a type with less storage capacity to one with more.\n",
        "Example: Converting an int (4 bytes) to a long (8 bytes).\n",
        "No programmer intervention: The compiler handles the conversion automatically.\n",
        "**Explicit Type Casting:**\n",
        "Definition: Requires the programmer to manually convert a larger data type to a smaller one using a type cast.\n",
        "Data Loss: Can potentially lead to data loss or information loss when converting from a larger to a smaller data type.\n",
        "Example: Converting a double (8 bytes) to an int (4 bytes).\n",
        "Programmer intervention: The programmer needs to specify the type conversion using parentheses."
      ],
      "metadata": {
        "id": "4fMouZnEuECt"
      }
    },
    {
      "cell_type": "markdown",
      "source": [
        "**11)What is the purpose of conditional statements in Python?**->Conditional statements in Python are used to control the flow of execution based on whether certain conditions are true or false. They allow programs to make decisions and execute different blocks of code accordingly."
      ],
      "metadata": {
        "id": "ypMAhyo4utGS"
      }
    },
    {
      "cell_type": "markdown",
      "source": [
        "**12)How does the elif statement work?**->The if-else statement is used to execute both the true part and the false part of a given condition. If the condition is true, the if block code is executed and if the condition is false, the else block code is executed."
      ],
      "metadata": {
        "id": "2QkPCw-Pu5N7"
      }
    },
    {
      "cell_type": "markdown",
      "source": [
        "**13) What is the difference between for and while loops?**->\n",
        "**For Loop in Programming:**\n",
        "The for loop is used when you know in advance how many times you want to execute the block of code.\n",
        "It iterates over a sequence (e.g., a list, tuple, string, or range) and executes the block of code for each item in the sequence.\n",
        "The loop variable (variable) takes the value of each item in the sequence during each iteration.\n",
        "**While Loop in Programming:**\n",
        "The while loop is used when you don't know in advance how many times you want to execute the block of code. It continues to execute as long as the specified condition is true.\n",
        "It's important to make sure that the condition eventually becomes false; otherwise, the loop will run indefinitely, resulting in an infinite loop.\n"
      ],
      "metadata": {
        "id": "zaU5mBUQvLLq"
      }
    },
    {
      "cell_type": "markdown",
      "source": [
        "**14)Describe a scenario where a while loop is more suitable than a for loop.** -> for loops are best used when you know the number of iterations ahead of time, whereas a while loop is best used when you don't know the number of iterations in advance. Both methods can help you iterate through your code.\n"
      ],
      "metadata": {
        "id": "YVkRgzHJvqy6"
      }
    },
    {
      "cell_type": "markdown",
      "source": [
        "**1) Write a Python program to print \"Hello, World!**"
      ],
      "metadata": {
        "id": "FJldD1IEwTEI"
      }
    },
    {
      "cell_type": "code",
      "source": [
        "print(\"Hello,World!\")"
      ],
      "metadata": {
        "colab": {
          "base_uri": "https://localhost:8080/"
        },
        "id": "6s-76e15wDJn",
        "outputId": "8c96a73c-4da2-4d5c-908a-8fb53ef68fc7"
      },
      "execution_count": null,
      "outputs": [
        {
          "output_type": "stream",
          "name": "stdout",
          "text": [
            "Hello,World!\n"
          ]
        }
      ]
    },
    {
      "cell_type": "markdown",
      "source": [
        " **2)Write a Python program that displays your name and age**"
      ],
      "metadata": {
        "id": "tgW0INOWwcCk"
      }
    },
    {
      "cell_type": "code",
      "source": [
        "name=\"Aarti Arjun Patharkar\"\n",
        "age=21\n",
        "print(name)\n",
        "print(age)"
      ],
      "metadata": {
        "colab": {
          "base_uri": "https://localhost:8080/"
        },
        "id": "7u6V_KR6wk6R",
        "outputId": "16dfadf0-c6de-4078-8bcf-ef6710d6e4aa"
      },
      "execution_count": null,
      "outputs": [
        {
          "output_type": "stream",
          "name": "stdout",
          "text": [
            "Aarti Arjun Patharkar\n",
            "21\n"
          ]
        }
      ]
    },
    {
      "cell_type": "markdown",
      "source": [
        "**3)Write code to print all the pre-defined keywords in Python using the keyword library.**"
      ],
      "metadata": {
        "id": "ZQPSXcuCtqlb"
      }
    },
    {
      "cell_type": "code",
      "source": [
        "help('keywords')"
      ],
      "metadata": {
        "colab": {
          "base_uri": "https://localhost:8080/"
        },
        "id": "58UBijnaufTu",
        "outputId": "e6c00fbd-1e95-4073-e104-b6e9a994deb6"
      },
      "execution_count": 1,
      "outputs": [
        {
          "output_type": "stream",
          "name": "stdout",
          "text": [
            "\n",
            "Here is a list of the Python keywords.  Enter any keyword to get more help.\n",
            "\n",
            "False               class               from                or\n",
            "None                continue            global              pass\n",
            "True                def                 if                  raise\n",
            "and                 del                 import              return\n",
            "as                  elif                in                  try\n",
            "assert              else                is                  while\n",
            "async               except              lambda              with\n",
            "await               finally             nonlocal            yield\n",
            "break               for                 not                 \n",
            "\n"
          ]
        }
      ]
    },
    {
      "cell_type": "markdown",
      "source": [
        "**4)Write a program that checks if a given word is a Python keyword.**"
      ],
      "metadata": {
        "id": "BRlk5Ba6u4Ce"
      }
    },
    {
      "cell_type": "code",
      "source": [
        "import keyword\n",
        "str = 'for'\n",
        "\n",
        "# Check if it's a Python keyword\n",
        "if keyword.iskeyword(str):\n",
        "    print(f\"'{str}' is a Python keyword.\")\n",
        "else:\n",
        "    print(f\"'{str}' is not a Python keyword.\")"
      ],
      "metadata": {
        "colab": {
          "base_uri": "https://localhost:8080/"
        },
        "id": "IrAjildNvH6w",
        "outputId": "95722bb0-bb40-4626-c74c-940f9a7001b1"
      },
      "execution_count": 4,
      "outputs": [
        {
          "output_type": "stream",
          "name": "stdout",
          "text": [
            "'for' is a Python keyword.\n"
          ]
        }
      ]
    },
    {
      "cell_type": "markdown",
      "source": [
        "**5)Create a list and tuple in Python, and demonstrate how attempting to change an element works differently for each.**"
      ],
      "metadata": {
        "id": "wz2cfTIYwAdA"
      }
    },
    {
      "cell_type": "code",
      "source": [
        "# Creating a list\n",
        "list = [1, 2, 3]\n",
        "print(\"Original list:\", list)\n",
        "\n",
        "# Modifying an element in the list\n",
        "list[1] = 4\n",
        "print(\"Modified list:\", list)\n",
        "\n",
        "# Creating a tuple\n",
        "tuple = (1, 2, 3)\n",
        "print(\"Original tuple:\", tuple)\n"
      ],
      "metadata": {
        "colab": {
          "base_uri": "https://localhost:8080/"
        },
        "id": "gZV2VSJJwkZX",
        "outputId": "91008ce4-7cbd-40dc-b7bb-cf21e5d7f50d"
      },
      "execution_count": 13,
      "outputs": [
        {
          "output_type": "stream",
          "name": "stdout",
          "text": [
            "Original list: [1, 2, 3]\n",
            "Modified list: [1, 4, 3]\n",
            "Original tuple: (1, 2, 3)\n"
          ]
        }
      ]
    },
    {
      "cell_type": "markdown",
      "source": [
        "**6) Write a function to demonstrate the behavior of mutable and immutable arguments.**"
      ],
      "metadata": {
        "id": "aWTb1HVOyB53"
      }
    },
    {
      "cell_type": "code",
      "source": [
        "my_list = [1, 2, 3]\n",
        "my_list.append(4)\n",
        "print(my_list)\n",
        "\n",
        "my_list.insert(1, 5)\n",
        "print(my_list)\n",
        "\n",
        "my_list.remove(2)\n",
        "print(my_list)\n",
        "\n",
        "popped_element = my_list.pop(0)\n",
        "print(my_list)\n",
        "print(popped_element)"
      ],
      "metadata": {
        "colab": {
          "base_uri": "https://localhost:8080/"
        },
        "id": "yn3mSclTyIz3",
        "outputId": "6920a251-8a58-42a9-f47d-5c4b85f4f9b3"
      },
      "execution_count": 14,
      "outputs": [
        {
          "output_type": "stream",
          "name": "stdout",
          "text": [
            "[1, 2, 3, 4]\n",
            "[1, 5, 2, 3, 4]\n",
            "[1, 5, 3, 4]\n",
            "[5, 3, 4]\n",
            "1\n"
          ]
        }
      ]
    },
    {
      "cell_type": "markdown",
      "source": [
        "**7)Write a program that performs basic arithmetic operations on two user-input numbers.**"
      ],
      "metadata": {
        "id": "oAwwpPX8yflT"
      }
    },
    {
      "cell_type": "code",
      "source": [
        "def add(x, y):\n",
        "    return x + y\n",
        "\n",
        "def subtract(x, y):\n",
        "    return x - y\n",
        "\n",
        "def multiply(x, y):\n",
        "    return x * y\n",
        "\n",
        "def divide(x, y):\n",
        "   return  x / y\n",
        "\n",
        "# Get input from the user\n",
        "num1 = float(input(\"Enter the first number: \"))\n",
        "num2 = float(input(\"Enter the second number: \"))\n",
        "\n",
        "# Perform and display the operations\n",
        "print(\"Addition:\", add(num1, num2))\n",
        "print(\"Subtraction:\", subtract(num1, num2))\n",
        "print(\"Multiplication:\", multiply(num1, num2))\n",
        "print(\"Division:\", divide(num1, num2))"
      ],
      "metadata": {
        "colab": {
          "base_uri": "https://localhost:8080/"
        },
        "id": "pyF7llgPysy9",
        "outputId": "7a8537f2-9096-40ee-a17c-4f99638268de"
      },
      "execution_count": 15,
      "outputs": [
        {
          "output_type": "stream",
          "name": "stdout",
          "text": [
            "Enter the first number: 2\n",
            "Enter the second number: 3\n",
            "Addition: 5.0\n",
            "Subtraction: -1.0\n",
            "Multiplication: 6.0\n",
            "Division: 0.6666666666666666\n"
          ]
        }
      ]
    },
    {
      "cell_type": "markdown",
      "source": [
        "**8)Write a program to demonstrate the use of logical operators.**"
      ],
      "metadata": {
        "id": "rvjywpqkzPW7"
      }
    },
    {
      "cell_type": "code",
      "source": [
        "# Example: Logical Operators (AND, OR, NOT) with generic variables\n",
        "a, b, c = True, False, True\n",
        "\n",
        "if a and c:\n",
        "    print(\"Both a and c are True (AND condition).\")\n",
        "if b or c:\n",
        "    print(\"Either b or c is True (OR condition).\")\n",
        "if not b:\n",
        "    print(\"b is False (NOT condition).\")"
      ],
      "metadata": {
        "colab": {
          "base_uri": "https://localhost:8080/"
        },
        "id": "Za5tZ35TzVgY",
        "outputId": "f6be0368-f1ce-462d-a90f-6371dd5a3ae8"
      },
      "execution_count": 16,
      "outputs": [
        {
          "output_type": "stream",
          "name": "stdout",
          "text": [
            "Both a and c are True (AND condition).\n",
            "Either b or c is True (OR condition).\n",
            "b is False (NOT condition).\n"
          ]
        }
      ]
    },
    {
      "cell_type": "markdown",
      "source": [
        " **9)Write a Python program to convert user input from string to integer, float, and boolean types.**"
      ],
      "metadata": {
        "id": "TKLLzcJ9zsIo"
      }
    },
    {
      "cell_type": "code",
      "source": [
        "s = \"42\"\n",
        "num = int(s)\n",
        "print(num)\n",
        "num = float(s)\n",
        "print(num)\n",
        "num = bool(s)\n",
        "print(num)"
      ],
      "metadata": {
        "colab": {
          "base_uri": "https://localhost:8080/"
        },
        "id": "2aREgF4-0DTN",
        "outputId": "8c785518-f8df-4bae-c172-be208d60a22d"
      },
      "execution_count": 18,
      "outputs": [
        {
          "output_type": "stream",
          "name": "stdout",
          "text": [
            "42\n",
            "42.0\n",
            "True\n"
          ]
        }
      ]
    },
    {
      "cell_type": "markdown",
      "source": [
        "**10)Write code to demonstrate type casting with list elements.**"
      ],
      "metadata": {
        "id": "uNQ871eP0PoI"
      }
    },
    {
      "cell_type": "code",
      "source": [
        "my_list = [\"1\", \"2\", \"3\"]\n",
        "int_list = [int(x) for x in my_list]\n",
        "print(int_list)\n",
        "print(type(int_list[0]))\n",
        "my_list = [\"1.5\", \"2.7\", \"3.9\"]\n",
        "float_list = [float(x) for x in my_list]\n",
        "print(float_list)\n",
        "print(type(float_list[0]))"
      ],
      "metadata": {
        "colab": {
          "base_uri": "https://localhost:8080/"
        },
        "id": "EVPzS3Qp0lFy",
        "outputId": "6ac1d9e5-c170-4b98-8550-1efe64a08313"
      },
      "execution_count": 27,
      "outputs": [
        {
          "output_type": "stream",
          "name": "stdout",
          "text": [
            "[1, 2, 3]\n",
            "<class 'int'>\n",
            "[1.5, 2.7, 3.9]\n",
            "<class 'float'>\n"
          ]
        }
      ]
    },
    {
      "cell_type": "code",
      "source": [
        "# Fix any redefinition of built-in list\n",
        "del list\n",
        "\n",
        "my_string = \"hello\"\n",
        "list_from_string = list(my_string)\n",
        "print(list_from_string)        # ['h', 'e', 'l', 'l', 'o']\n",
        "print(type(list_from_string))  # <class 'list'>\n"
      ],
      "metadata": {
        "colab": {
          "base_uri": "https://localhost:8080/"
        },
        "id": "juWONkgW2h7M",
        "outputId": "4f35ae2e-fc81-4eab-c004-bf7103b53daa"
      },
      "execution_count": 35,
      "outputs": [
        {
          "output_type": "stream",
          "name": "stdout",
          "text": [
            "['h', 'e', 'l', 'l', 'o']\n",
            "<class 'list'>\n"
          ]
        }
      ]
    },
    {
      "cell_type": "markdown",
      "source": [
        "**11)Write a program that checks if a number is positive, negative, or zero.**"
      ],
      "metadata": {
        "id": "Ep3EqP2A42oq"
      }
    },
    {
      "cell_type": "code",
      "source": [
        "def check_number(num):\n",
        "  if number > 0:\n",
        "    return \"positive\"\n",
        "  elif number < 0:\n",
        "    return \"negative\"\n",
        "  else:\n",
        "    return \"zero\"\n",
        "\n",
        "number = int(input(\"Enter a number: \"))\n",
        "result = check_number(number)\n",
        "print(f\"The number {number} is {result}.\")"
      ],
      "metadata": {
        "colab": {
          "base_uri": "https://localhost:8080/"
        },
        "id": "7DKy39Y75AuQ",
        "outputId": "b8a50963-ffa7-4eb2-aa91-a87bcc99cae0"
      },
      "execution_count": 36,
      "outputs": [
        {
          "output_type": "stream",
          "name": "stdout",
          "text": [
            "Enter a number: 3\n",
            "The number 3 is positive.\n"
          ]
        }
      ]
    },
    {
      "cell_type": "markdown",
      "source": [
        "**12)Write a for loop to print numbers from 1 to 10.**"
      ],
      "metadata": {
        "id": "9utKrkPW5Nwn"
      }
    },
    {
      "cell_type": "code",
      "source": [
        "for i in range(1,10,1):\n",
        "  print(i)"
      ],
      "metadata": {
        "colab": {
          "base_uri": "https://localhost:8080/"
        },
        "id": "o-NPd_gL5d90",
        "outputId": "84c025e0-2e97-4510-d7ac-ee906cba54bc"
      },
      "execution_count": 39,
      "outputs": [
        {
          "output_type": "stream",
          "name": "stdout",
          "text": [
            "1\n",
            "2\n",
            "3\n",
            "4\n",
            "5\n",
            "6\n",
            "7\n",
            "8\n",
            "9\n"
          ]
        }
      ]
    },
    {
      "cell_type": "markdown",
      "source": [
        "**13)Write a Python program to find the sum of all even numbers between 1 and 50.**"
      ],
      "metadata": {
        "id": "I1Qjri7u5uCY"
      }
    },
    {
      "cell_type": "code",
      "source": [
        "\n",
        "total_sum = sum(range(2, 51, 2))\n",
        "print(\"Sum of even numbers from 1 to 50 is:\", total_sum)\n"
      ],
      "metadata": {
        "colab": {
          "base_uri": "https://localhost:8080/"
        },
        "id": "KbMyIBa952FE",
        "outputId": "a5395b4b-63ca-4a6c-b737-c37dd00c4727"
      },
      "execution_count": 43,
      "outputs": [
        {
          "output_type": "stream",
          "name": "stdout",
          "text": [
            "Sum of even numbers from 1 to 50 is: 650\n"
          ]
        }
      ]
    },
    {
      "cell_type": "markdown",
      "source": [
        "**14)Write a program to reverse a string using a while loop.**"
      ],
      "metadata": {
        "id": "GE8OUdve6ZCM"
      }
    },
    {
      "cell_type": "code",
      "source": [
        "s = \"hello world\"\n",
        "r = \"\"\n",
        "i = len(s) - 1\n",
        "\n",
        "while i >= 0:\n",
        "    r += s[i]\n",
        "    i -= 1\n",
        "\n",
        "print(r)\n"
      ],
      "metadata": {
        "colab": {
          "base_uri": "https://localhost:8080/"
        },
        "id": "6AeEKkCd6wtV",
        "outputId": "e634a627-9502-4bce-d66e-4fdd2bd2f157"
      },
      "execution_count": 44,
      "outputs": [
        {
          "output_type": "stream",
          "name": "stdout",
          "text": [
            "dlrow olleh\n"
          ]
        }
      ]
    },
    {
      "cell_type": "markdown",
      "source": [
        "**15)Write a Python program to calculate the factorial of a number provided by the user using a while loop.**"
      ],
      "metadata": {
        "id": "s_TO_1WZ67a_"
      }
    },
    {
      "cell_type": "code",
      "source": [
        "n = int(input(\"Enter a number: \"))\n",
        "f = 1\n",
        "while n > 0:\n",
        "    f *= n\n",
        "    n -= 1\n",
        "print(\"Factorial is:\", f)\n"
      ],
      "metadata": {
        "colab": {
          "base_uri": "https://localhost:8080/"
        },
        "id": "dfROynyp69P5",
        "outputId": "5346becd-4522-405d-fc0c-a1192e6d5e35"
      },
      "execution_count": 45,
      "outputs": [
        {
          "output_type": "stream",
          "name": "stdout",
          "text": [
            "Enter a number: 4\n",
            "Factorial is: 24\n"
          ]
        }
      ]
    },
    {
      "cell_type": "code",
      "source": [],
      "metadata": {
        "id": "N3_EwS9w7GVD"
      },
      "execution_count": null,
      "outputs": []
    }
  ]
}